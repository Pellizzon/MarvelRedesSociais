{
 "cells": [
  {
   "cell_type": "markdown",
   "metadata": {},
   "source": [
    "https://www.kaggle.com/dannielr/marvel-superheroes?select=marvel_characters_info.csv"
   ]
  },
  {
   "cell_type": "code",
   "execution_count": 1,
   "metadata": {},
   "outputs": [],
   "source": [
    "import pandas as pd"
   ]
  },
  {
   "cell_type": "code",
   "execution_count": 2,
   "metadata": {},
   "outputs": [],
   "source": [
    "charToComics = pd.read_csv(\"dataset/charactersToComics.csv\")\n",
    "characters = pd.read_csv(\"dataset/characters.csv\")\n",
    "stats = pd.read_csv(\"dataset/charcters_stats.csv\")\n",
    "charInfo = pd.read_csv(\"dataset/marvel_characters_info.csv\")\n",
    "powers = pd.read_csv(\"dataset/superheroes_power_matrix.csv\")\n",
    "comics = pd.read_csv(\"dataset/comics.csv\")"
   ]
  },
  {
   "cell_type": "code",
   "execution_count": 3,
   "metadata": {},
   "outputs": [],
   "source": [
    "import re\n",
    "import numpy as np\n",
    "regexp = re.compile(r'\\([1-3][0-9]{3}\\)')\n",
    "years = []\n",
    "for i in comics.title:\n",
    "    if not regexp.search(i):\n",
    "        years.append(np.nan)\n",
    "    else:\n",
    "        year_ = re.findall(r'[1-3][0-9]{3}', i)\n",
    "        years.append(int(year_[0]))\n",
    "        \n",
    "comics['year'] = years\n",
    "comics['year'] = comics['year']\n",
    "comics = comics[comics['year'].notna()]"
   ]
  },
  {
   "cell_type": "code",
   "execution_count": 4,
   "metadata": {},
   "outputs": [],
   "source": [
    "powers['name'] = powers['Name']\n",
    "powers = powers.drop(columns=['Name'])"
   ]
  },
  {
   "cell_type": "code",
   "execution_count": 5,
   "metadata": {},
   "outputs": [],
   "source": [
    "charInfo = charInfo.drop(columns=['ID'])\n",
    "charInfo['name'] = charInfo['Name']\n",
    "charInfo = charInfo.drop(columns=['Name'])"
   ]
  },
  {
   "cell_type": "code",
   "execution_count": 6,
   "metadata": {},
   "outputs": [],
   "source": [
    "stats['name'] = stats['Name']\n",
    "stats = stats.drop(columns=['Name'])"
   ]
  },
  {
   "cell_type": "code",
   "execution_count": 7,
   "metadata": {},
   "outputs": [],
   "source": [
    "df = pd.merge(charToComics, characters, how='left', on=['characterID'])"
   ]
  },
  {
   "cell_type": "code",
   "execution_count": 8,
   "metadata": {},
   "outputs": [],
   "source": [
    "df = pd.merge(df, comics, how='left', on=['comicID'])\n",
    "df = df.drop(columns=['description', 'issueNumber'])"
   ]
  },
  {
   "cell_type": "code",
   "execution_count": 9,
   "metadata": {},
   "outputs": [],
   "source": [
    "df = pd.merge(df, stats, how='left', on=['name'])"
   ]
  },
  {
   "cell_type": "code",
   "execution_count": 10,
   "metadata": {},
   "outputs": [],
   "source": [
    "df = pd.merge(df, charInfo, how='left', on=['name'])"
   ]
  },
  {
   "cell_type": "code",
   "execution_count": 11,
   "metadata": {},
   "outputs": [],
   "source": [
    "df = pd.merge(df, powers, how='left', on=['name'])"
   ]
  },
  {
   "cell_type": "code",
   "execution_count": 12,
   "metadata": {},
   "outputs": [],
   "source": [
    "# vamos salvar esse df em um novo csv para facilitar nossa vida\n",
    "\n",
    "df.to_csv(\"dataset/marvel.csv\")"
   ]
  },
  {
   "cell_type": "code",
   "execution_count": null,
   "metadata": {},
   "outputs": [],
   "source": []
  }
 ],
 "metadata": {
  "kernelspec": {
   "display_name": "Python 3",
   "language": "python",
   "name": "python3"
  },
  "language_info": {
   "codemirror_mode": {
    "name": "ipython",
    "version": 3
   },
   "file_extension": ".py",
   "mimetype": "text/x-python",
   "name": "python",
   "nbconvert_exporter": "python",
   "pygments_lexer": "ipython3",
   "version": "3.8.5"
  }
 },
 "nbformat": 4,
 "nbformat_minor": 4
}
