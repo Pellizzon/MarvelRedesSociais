{
 "cells": [
  {
   "cell_type": "code",
   "execution_count": 1,
   "metadata": {},
   "outputs": [
    {
     "data": {
      "text/html": [
       "        <script type=\"text/javascript\">\n",
       "        window.PlotlyConfig = {MathJaxConfig: 'local'};\n",
       "        if (window.MathJax) {MathJax.Hub.Config({SVG: {font: \"STIX-Web\"}});}\n",
       "        if (typeof require !== 'undefined') {\n",
       "        require.undef(\"plotly\");\n",
       "        requirejs.config({\n",
       "            paths: {\n",
       "                'plotly': ['https://cdn.plot.ly/plotly-latest.min']\n",
       "            }\n",
       "        });\n",
       "        require(['plotly'], function(Plotly) {\n",
       "            window._Plotly = Plotly;\n",
       "        });\n",
       "        }\n",
       "        </script>\n",
       "        "
      ]
     },
     "metadata": {},
     "output_type": "display_data"
    }
   ],
   "source": [
    "import os\n",
    "import sys\n",
    "module_path = os.path.abspath(os.path.join('..'))\n",
    "if module_path not in sys.path:\n",
    "    sys.path.append(module_path)\n",
    "\n",
    "import networkx as nx\n",
    "import freeman as fm"
   ]
  },
  {
   "cell_type": "code",
   "execution_count": 2,
   "metadata": {},
   "outputs": [],
   "source": [
    "g = fm.load('marvel.gml')\n",
    "g.label_nodes('name')\n",
    "g.set_all_nodes(size=15, labpos='hover')\n",
    "g.set_all_edges(color=(0, 0, 0, 0.5))"
   ]
  },
  {
   "cell_type": "code",
   "execution_count": 3,
   "metadata": {},
   "outputs": [],
   "source": [
    "bc = nx.betweenness_centrality(g)"
   ]
  },
  {
   "cell_type": "code",
   "execution_count": 4,
   "metadata": {},
   "outputs": [],
   "source": [
    "import pandas as pd\n",
    "data = pd.DataFrame({\n",
    "    'id' : [i for i in g.nodes],\n",
    "    'Name': [g.nodes[i]['name'] for i in g.nodes],\n",
    "    'ConnAmnt': [g.nodes[i]['amount'] for i in g.nodes],\n",
    "    'Intermediation (r)': [i for i in bc.values()],\n",
    "})"
   ]
  },
  {
   "cell_type": "code",
   "execution_count": 5,
   "metadata": {},
   "outputs": [],
   "source": [
    "char_infos = pd.read_csv('../dataset/characters_stats.csv', index_col=0)\n",
    "semi_df = pd.merge(data, char_infos, how='inner', on=['Name']) "
   ]
  },
  {
   "cell_type": "code",
   "execution_count": 6,
   "metadata": {},
   "outputs": [],
   "source": [
    "import numpy as np\n",
    "semi_df = semi_df.replace('nan', np.nan)\n",
    "semi_df = semi_df[semi_df['ConnAmnt'].notna()]\n",
    "semi_df['ConnAmnt'] = pd.to_numeric(semi_df['ConnAmnt'])"
   ]
  },
  {
   "cell_type": "code",
   "execution_count": 7,
   "metadata": {},
   "outputs": [],
   "source": [
    "semi_df = semi_df.drop_duplicates(subset=['Name'], keep='first')\n",
    "semi_df = semi_df[semi_df['Alignment'] != 'neutral']\n",
    "semi_df = semi_df.replace(['good', 'bad'], [0, 1])"
   ]
  },
  {
   "cell_type": "code",
   "execution_count": 8,
   "metadata": {},
   "outputs": [],
   "source": [
    "semi_df['Intelligence (%)'] = semi_df['Intelligence']/semi_df['Total']\n",
    "semi_df['Power (%)'] = semi_df['Power']/semi_df['Total']\n",
    "semi_df['Strength (%)'] = semi_df['Strength']/semi_df['Total']\n",
    "semi_df['Combat (%)'] = semi_df['Combat']/semi_df['Total']"
   ]
  },
  {
   "cell_type": "code",
   "execution_count": 9,
   "metadata": {
    "scrolled": false
   },
   "outputs": [
    {
     "data": {
      "text/html": [
       "<table class=\"simpletable\">\n",
       "<caption>OLS Regression Results</caption>\n",
       "<tr>\n",
       "  <th>Dep. Variable:</th>    <td>Intermediation (r)</td> <th>  R-squared (uncentered):</th>      <td>   0.233</td>\n",
       "</tr>\n",
       "<tr>\n",
       "  <th>Model:</th>                    <td>OLS</td>        <th>  Adj. R-squared (uncentered):</th> <td>   0.217</td>\n",
       "</tr>\n",
       "<tr>\n",
       "  <th>Method:</th>              <td>Least Squares</td>   <th>  F-statistic:       </th>          <td>   14.00</td>\n",
       "</tr>\n",
       "<tr>\n",
       "  <th>Date:</th>              <td>Mon, 23 Nov 2020</td>  <th>  Prob (F-statistic):</th>          <td>5.44e-10</td>\n",
       "</tr>\n",
       "<tr>\n",
       "  <th>Time:</th>                  <td>10:43:36</td>      <th>  Log-Likelihood:    </th>          <td>  636.14</td>\n",
       "</tr>\n",
       "<tr>\n",
       "  <th>No. Observations:</th>       <td>   188</td>       <th>  AIC:               </th>          <td>  -1264.</td>\n",
       "</tr>\n",
       "<tr>\n",
       "  <th>Df Residuals:</th>           <td>   184</td>       <th>  BIC:               </th>          <td>  -1251.</td>\n",
       "</tr>\n",
       "<tr>\n",
       "  <th>Df Model:</th>               <td>     4</td>       <th>                     </th>              <td> </td>   \n",
       "</tr>\n",
       "<tr>\n",
       "  <th>Covariance Type:</th>       <td>nonrobust</td>     <th>                     </th>              <td> </td>   \n",
       "</tr>\n",
       "</table>\n",
       "<table class=\"simpletable\">\n",
       "<tr>\n",
       "        <td></td>          <th>coef</th>     <th>std err</th>      <th>t</th>      <th>P>|t|</th>  <th>[0.025</th>    <th>0.975]</th>  \n",
       "</tr>\n",
       "<tr>\n",
       "  <th>Intelligence</th> <td>    0.0001</td> <td> 2.72e-05</td> <td>    3.695</td> <td> 0.000</td> <td> 4.68e-05</td> <td>    0.000</td>\n",
       "</tr>\n",
       "<tr>\n",
       "  <th>Strength</th>     <td> 1.605e-05</td> <td> 2.23e-05</td> <td>    0.719</td> <td> 0.473</td> <td> -2.8e-05</td> <td> 6.01e-05</td>\n",
       "</tr>\n",
       "<tr>\n",
       "  <th>Power</th>        <td>-3.193e-05</td> <td> 2.81e-05</td> <td>   -1.134</td> <td> 0.258</td> <td>-8.75e-05</td> <td> 2.36e-05</td>\n",
       "</tr>\n",
       "<tr>\n",
       "  <th>Alignment</th>    <td>   -0.0034</td> <td>    0.001</td> <td>   -2.448</td> <td> 0.015</td> <td>   -0.006</td> <td>   -0.001</td>\n",
       "</tr>\n",
       "</table>\n",
       "<table class=\"simpletable\">\n",
       "<tr>\n",
       "  <th>Omnibus:</th>       <td>225.161</td> <th>  Durbin-Watson:     </th> <td>   0.891</td>\n",
       "</tr>\n",
       "<tr>\n",
       "  <th>Prob(Omnibus):</th> <td> 0.000</td>  <th>  Jarque-Bera (JB):  </th> <td>8120.973</td>\n",
       "</tr>\n",
       "<tr>\n",
       "  <th>Skew:</th>          <td> 4.930</td>  <th>  Prob(JB):          </th> <td>    0.00</td>\n",
       "</tr>\n",
       "<tr>\n",
       "  <th>Kurtosis:</th>      <td>33.651</td>  <th>  Cond. No.          </th> <td>    210.</td>\n",
       "</tr>\n",
       "</table><br/><br/>Notes:<br/>[1] R² is computed without centering (uncentered) since the model does not contain a constant.<br/>[2] Standard Errors assume that the covariance matrix of the errors is correctly specified."
      ],
      "text/plain": [
       "<class 'statsmodels.iolib.summary.Summary'>\n",
       "\"\"\"\n",
       "                                 OLS Regression Results                                \n",
       "=======================================================================================\n",
       "Dep. Variable:     Intermediation (r)   R-squared (uncentered):                   0.233\n",
       "Model:                            OLS   Adj. R-squared (uncentered):              0.217\n",
       "Method:                 Least Squares   F-statistic:                              14.00\n",
       "Date:                Mon, 23 Nov 2020   Prob (F-statistic):                    5.44e-10\n",
       "Time:                        10:43:36   Log-Likelihood:                          636.14\n",
       "No. Observations:                 188   AIC:                                     -1264.\n",
       "Df Residuals:                     184   BIC:                                     -1251.\n",
       "Df Model:                           4                                                  \n",
       "Covariance Type:            nonrobust                                                  \n",
       "================================================================================\n",
       "                   coef    std err          t      P>|t|      [0.025      0.975]\n",
       "--------------------------------------------------------------------------------\n",
       "Intelligence     0.0001   2.72e-05      3.695      0.000    4.68e-05       0.000\n",
       "Strength      1.605e-05   2.23e-05      0.719      0.473    -2.8e-05    6.01e-05\n",
       "Power        -3.193e-05   2.81e-05     -1.134      0.258   -8.75e-05    2.36e-05\n",
       "Alignment       -0.0034      0.001     -2.448      0.015      -0.006      -0.001\n",
       "==============================================================================\n",
       "Omnibus:                      225.161   Durbin-Watson:                   0.891\n",
       "Prob(Omnibus):                  0.000   Jarque-Bera (JB):             8120.973\n",
       "Skew:                           4.930   Prob(JB):                         0.00\n",
       "Kurtosis:                      33.651   Cond. No.                         210.\n",
       "==============================================================================\n",
       "\n",
       "Notes:\n",
       "[1] R² is computed without centering (uncentered) since the model does not contain a constant.\n",
       "[2] Standard Errors assume that the covariance matrix of the errors is correctly specified.\n",
       "\"\"\""
      ]
     },
     "execution_count": 9,
     "metadata": {},
     "output_type": "execute_result"
    }
   ],
   "source": [
    "import statsmodels.api as sm\n",
    "\n",
    "# model = sm.OLS(semi_df['Intermediation (r)'], semi_df[['Intelligence', 'Strength', 'Strength (%)', \n",
    "#                                                        'Power', 'Power (%)', 'Alignment']])\n",
    "model = sm.OLS(semi_df['Intermediation (r)'], semi_df[['Intelligence', 'Strength', 'Power', 'Alignment']])\n",
    "result = model.fit()\n",
    "result.summary()\n"
   ]
  },
  {
   "cell_type": "code",
   "execution_count": 10,
   "metadata": {},
   "outputs": [
    {
     "name": "stdout",
     "output_type": "stream",
     "text": [
      "Coef:\n",
      "Intelligence    0.000100\n",
      "Strength        0.000016\n",
      "Power          -0.000032\n",
      "Alignment      -0.003350\n",
      "dtype: float64\n",
      "\n",
      "std err:\n",
      "Intelligence    0.000027\n",
      "Strength        0.000022\n",
      "Power           0.000028\n",
      "Alignment       0.001368\n",
      "dtype: float64\n",
      "\n",
      "p-values:\n",
      "Intelligence    0.000290\n",
      "Strength        0.473044\n",
      "Power           0.258083\n",
      "Alignment       0.015295\n",
      "dtype: float64\n",
      "\n"
     ]
    }
   ],
   "source": [
    "print(f\"Coef:\\n{result.params}\\n\")\n",
    "print(f\"std err:\\n{result.bse}\\n\")\n",
    "print(f\"p-values:\\n{result.pvalues}\\n\")"
   ]
  },
  {
   "cell_type": "code",
   "execution_count": 11,
   "metadata": {},
   "outputs": [],
   "source": [
    "# g = fm.load('marvelWeights.gml')\n",
    "# g.label_nodes('name')\n",
    "# g.set_all_nodes(size=15, labpos='hover')\n",
    "# g.set_all_edges(color=(0, 0, 0, 0.5))\n",
    "\n",
    "# intelligence = {}\n",
    "\n",
    "# for i in g.nodes:\n",
    "#     intelligence[i] = float(g.nodes[i]['intelligence'])\n",
    "\n",
    "# g.scale_nodes_size(intelligence)\n",
    "# g.draw()"
   ]
  },
  {
   "cell_type": "code",
   "execution_count": null,
   "metadata": {},
   "outputs": [],
   "source": []
  }
 ],
 "metadata": {
  "kernelspec": {
   "display_name": "Python 3",
   "language": "python",
   "name": "python3"
  },
  "language_info": {
   "codemirror_mode": {
    "name": "ipython",
    "version": 3
   },
   "file_extension": ".py",
   "mimetype": "text/x-python",
   "name": "python",
   "nbconvert_exporter": "python",
   "pygments_lexer": "ipython3",
   "version": "3.8.4"
  }
 },
 "nbformat": 4,
 "nbformat_minor": 4
}
