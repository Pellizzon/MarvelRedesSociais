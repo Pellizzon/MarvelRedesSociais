{
 "cells": [
  {
   "cell_type": "code",
   "execution_count": 1,
   "metadata": {},
   "outputs": [],
   "source": [
    "import pandas as pd"
   ]
  },
  {
   "cell_type": "code",
   "execution_count": 2,
   "metadata": {},
   "outputs": [],
   "source": [
    "df = pd.read_csv('dataset/marvel.csv', index_col=0)"
   ]
  },
  {
   "cell_type": "code",
   "execution_count": 3,
   "metadata": {},
   "outputs": [
    {
     "data": {
      "text/html": [
       "<div>\n",
       "<style scoped>\n",
       "    .dataframe tbody tr th:only-of-type {\n",
       "        vertical-align: middle;\n",
       "    }\n",
       "\n",
       "    .dataframe tbody tr th {\n",
       "        vertical-align: top;\n",
       "    }\n",
       "\n",
       "    .dataframe thead th {\n",
       "        text-align: right;\n",
       "    }\n",
       "</style>\n",
       "<table border=\"1\" class=\"dataframe\">\n",
       "  <thead>\n",
       "    <tr style=\"text-align: right;\">\n",
       "      <th></th>\n",
       "      <th>comicID</th>\n",
       "      <th>characterID</th>\n",
       "      <th>name</th>\n",
       "      <th>title</th>\n",
       "      <th>year</th>\n",
       "      <th>Alignment_x</th>\n",
       "      <th>Intelligence_x</th>\n",
       "      <th>Strength</th>\n",
       "      <th>Speed</th>\n",
       "      <th>Durability_x</th>\n",
       "      <th>...</th>\n",
       "      <th>Web Creation</th>\n",
       "      <th>Reality Warping</th>\n",
       "      <th>Odin Force</th>\n",
       "      <th>Symbiote Costume</th>\n",
       "      <th>Speed Force</th>\n",
       "      <th>Phoenix Force</th>\n",
       "      <th>Molecular Dissipation</th>\n",
       "      <th>Vision - Cryo</th>\n",
       "      <th>Omnipresent</th>\n",
       "      <th>Omniscient</th>\n",
       "    </tr>\n",
       "  </thead>\n",
       "  <tbody>\n",
       "    <tr>\n",
       "      <th>0</th>\n",
       "      <td>16232</td>\n",
       "      <td>1009220</td>\n",
       "      <td>Captain America</td>\n",
       "      <td>Cap Transport (2005) #12</td>\n",
       "      <td>2005.0</td>\n",
       "      <td>good</td>\n",
       "      <td>63.0</td>\n",
       "      <td>19.0</td>\n",
       "      <td>35.0</td>\n",
       "      <td>56.0</td>\n",
       "      <td>...</td>\n",
       "      <td>False</td>\n",
       "      <td>False</td>\n",
       "      <td>False</td>\n",
       "      <td>False</td>\n",
       "      <td>False</td>\n",
       "      <td>False</td>\n",
       "      <td>False</td>\n",
       "      <td>False</td>\n",
       "      <td>False</td>\n",
       "      <td>False</td>\n",
       "    </tr>\n",
       "    <tr>\n",
       "      <th>1</th>\n",
       "      <td>16232</td>\n",
       "      <td>1010740</td>\n",
       "      <td>Winter Soldier</td>\n",
       "      <td>Cap Transport (2005) #12</td>\n",
       "      <td>2005.0</td>\n",
       "      <td>good</td>\n",
       "      <td>56.0</td>\n",
       "      <td>32.0</td>\n",
       "      <td>35.0</td>\n",
       "      <td>65.0</td>\n",
       "      <td>...</td>\n",
       "      <td>False</td>\n",
       "      <td>False</td>\n",
       "      <td>False</td>\n",
       "      <td>False</td>\n",
       "      <td>False</td>\n",
       "      <td>False</td>\n",
       "      <td>False</td>\n",
       "      <td>False</td>\n",
       "      <td>False</td>\n",
       "      <td>False</td>\n",
       "    </tr>\n",
       "    <tr>\n",
       "      <th>2</th>\n",
       "      <td>16248</td>\n",
       "      <td>1009220</td>\n",
       "      <td>Captain America</td>\n",
       "      <td>Cap Transport (2005) #9</td>\n",
       "      <td>2005.0</td>\n",
       "      <td>good</td>\n",
       "      <td>63.0</td>\n",
       "      <td>19.0</td>\n",
       "      <td>35.0</td>\n",
       "      <td>56.0</td>\n",
       "      <td>...</td>\n",
       "      <td>False</td>\n",
       "      <td>False</td>\n",
       "      <td>False</td>\n",
       "      <td>False</td>\n",
       "      <td>False</td>\n",
       "      <td>False</td>\n",
       "      <td>False</td>\n",
       "      <td>False</td>\n",
       "      <td>False</td>\n",
       "      <td>False</td>\n",
       "    </tr>\n",
       "  </tbody>\n",
       "</table>\n",
       "<p>3 rows × 189 columns</p>\n",
       "</div>"
      ],
      "text/plain": [
       "   comicID  characterID             name                     title    year  \\\n",
       "0    16232      1009220  Captain America  Cap Transport (2005) #12  2005.0   \n",
       "1    16232      1010740   Winter Soldier  Cap Transport (2005) #12  2005.0   \n",
       "2    16248      1009220  Captain America   Cap Transport (2005) #9  2005.0   \n",
       "\n",
       "  Alignment_x  Intelligence_x  Strength  Speed  Durability_x  ...  \\\n",
       "0        good            63.0      19.0   35.0          56.0  ...   \n",
       "1        good            56.0      32.0   35.0          65.0  ...   \n",
       "2        good            63.0      19.0   35.0          56.0  ...   \n",
       "\n",
       "   Web Creation  Reality Warping  Odin Force Symbiote Costume Speed Force  \\\n",
       "0         False            False       False            False       False   \n",
       "1         False            False       False            False       False   \n",
       "2         False            False       False            False       False   \n",
       "\n",
       "  Phoenix Force Molecular Dissipation Vision - Cryo Omnipresent Omniscient  \n",
       "0         False                 False         False       False      False  \n",
       "1         False                 False         False       False      False  \n",
       "2         False                 False         False       False      False  \n",
       "\n",
       "[3 rows x 189 columns]"
      ]
     },
     "execution_count": 3,
     "metadata": {},
     "output_type": "execute_result"
    }
   ],
   "source": [
    "df.head(3)"
   ]
  },
  {
   "cell_type": "code",
   "execution_count": 4,
   "metadata": {},
   "outputs": [],
   "source": [
    "#  exitem dois Ids para a Jean Grey, estamos padronizando esse Id\n",
    "df = df.replace(1009496, 1009327)"
   ]
  },
  {
   "cell_type": "code",
   "execution_count": 5,
   "metadata": {},
   "outputs": [],
   "source": [
    "relations_to_comics = {}\n",
    "\n",
    "comics = df['comicID'].unique()\n",
    "\n",
    "for i in comics:\n",
    "    relations_to_comics[i] = []"
   ]
  },
  {
   "cell_type": "code",
   "execution_count": 6,
   "metadata": {},
   "outputs": [],
   "source": [
    "chars = df['characterID'].unique()\n",
    "\n",
    "for i in range(len(df)):\n",
    "    comicID, charID = df.iloc[i, 0:2]\n",
    "    if charID not in relations_to_comics[comicID]:\n",
    "        relations_to_comics[comicID].append(charID)"
   ]
  },
  {
   "cell_type": "code",
   "execution_count": 7,
   "metadata": {},
   "outputs": [],
   "source": [
    "to_remove = []\n",
    "for i in relations_to_comics:\n",
    "    if len(relations_to_comics[i]) <= 1:\n",
    "        to_remove.append(i)"
   ]
  },
  {
   "cell_type": "code",
   "execution_count": 8,
   "metadata": {},
   "outputs": [],
   "source": [
    "for i in to_remove:\n",
    "    del relations_to_comics[i]\n",
    "# relations_to_comics"
   ]
  },
  {
   "cell_type": "code",
   "execution_count": 9,
   "metadata": {},
   "outputs": [],
   "source": [
    "relations_to_comics\n",
    "temp = []\n",
    "for n in relations_to_comics:\n",
    "    temp.append(relations_to_comics[n])"
   ]
  },
  {
   "cell_type": "code",
   "execution_count": 10,
   "metadata": {},
   "outputs": [],
   "source": [
    "import itertools\n",
    "connections = []\n",
    "\n",
    "for i in temp: \n",
    "    for j in list(itertools.combinations(i, 2)): \n",
    "        if j not in connections:\n",
    "            connections.append(j)"
   ]
  },
  {
   "cell_type": "code",
   "execution_count": 11,
   "metadata": {},
   "outputs": [],
   "source": [
    "result_df = df.drop_duplicates(subset=['name'], keep='first')\n",
    "# result_df"
   ]
  },
  {
   "cell_type": "code",
   "execution_count": 12,
   "metadata": {},
   "outputs": [
    {
     "data": {
      "text/plain": [
       "(1169, 1169)"
      ]
     },
     "execution_count": 12,
     "metadata": {},
     "output_type": "execute_result"
    }
   ],
   "source": [
    "names = list(result_df['name'])\n",
    "ids = list(result_df['characterID'])\n",
    "\n",
    "len(ids), len(names)"
   ]
  },
  {
   "cell_type": "code",
   "execution_count": 13,
   "metadata": {},
   "outputs": [],
   "source": [
    "from unidecode import unidecode\n",
    "with open('marvel.gml', 'w') as file:\n",
    "\n",
    "        # Primeira linha, que abre os colchetes da rede.\n",
    "        file.write('graph [\\n')\n",
    "\n",
    "        # Segunda linha, que indica se a rede é dirigida (1) ou não (0).\n",
    "        file.write('  directed 0\\n')\n",
    "\n",
    "        # Colchetes de cada nó. Você sempre precisa colocar um id (inteiro\n",
    "        # ou string) e depois pode colocar os atributos adicionais que\n",
    "        # quiser, contanto que sejam inteiros, floats ou strings. Se forem\n",
    "        # strings, não esqueça as aspas duplas (isso vale para o id também).\n",
    "        # Não esqueça também da indentação. Ela não é necessária mas ajuda\n",
    "        # a deixar mais legível.\n",
    "        #\n",
    "        # O módulo unidecode converte todo caractere não-ASCII para o\n",
    "        # caractere ASCII mais próximo. Isso é necessário porque a\n",
    "        # especificação do formato gml exige que ele seja ASCII.\n",
    "        for i in range(len(names)):\n",
    "            file.write('  node [\\n')\n",
    "            file.write('    id {}\\n'.format(ids[i]))\n",
    "            file.write('    name \"{}\"\\n'.format(unidecode(names[i])))\n",
    "            file.write('  ]\\n')\n",
    "\n",
    "        # Colchetes de cada aresta. Você sempre precisa colocar um source\n",
    "        # e um target (ids de nós) e depois pode colocar os atributos\n",
    "        # adicionais que quiser, contanto que sejam inteiros, floats ou\n",
    "        # strings. Se forem strings, não esqueça as aspas duplas (isso\n",
    "        # vale para o source e o target também). Não esqueça também da\n",
    "        # indentação. Ela não é necessária mas ajuda a deixar mais legível.\n",
    "        for (n, m) in connections:\n",
    "            file.write('  edge [\\n')\n",
    "            file.write('    source {}\\n'.format(n))\n",
    "            file.write('    target {}\\n'.format(m))\n",
    "            file.write('  ]\\n')\n",
    "\n",
    "        # Última linha, que fecha os colchetes da rede.\n",
    "        file.write(']\\n')"
   ]
  },
  {
   "cell_type": "code",
   "execution_count": null,
   "metadata": {},
   "outputs": [],
   "source": []
  },
  {
   "cell_type": "code",
   "execution_count": null,
   "metadata": {},
   "outputs": [],
   "source": []
  }
 ],
 "metadata": {
  "kernelspec": {
   "display_name": "Python 3",
   "language": "python",
   "name": "python3"
  },
  "language_info": {
   "codemirror_mode": {
    "name": "ipython",
    "version": 3
   },
   "file_extension": ".py",
   "mimetype": "text/x-python",
   "name": "python",
   "nbconvert_exporter": "python",
   "pygments_lexer": "ipython3",
   "version": "3.8.4"
  }
 },
 "nbformat": 4,
 "nbformat_minor": 4
}
