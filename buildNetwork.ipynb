{
 "cells": [
  {
   "cell_type": "code",
   "execution_count": 1,
   "metadata": {},
   "outputs": [],
   "source": [
    "import pandas as pd"
   ]
  },
  {
   "cell_type": "code",
   "execution_count": 2,
   "metadata": {},
   "outputs": [],
   "source": [
    "df = pd.read_csv('dataset/marvel.csv', index_col=0)"
   ]
  },
  {
   "cell_type": "code",
   "execution_count": 3,
   "metadata": {},
   "outputs": [],
   "source": [
    "#  exitem dois Ids para a Jean Grey, estamos padronizando esse Id\n",
    "df = df.replace(1009496, 1009327)"
   ]
  },
  {
   "cell_type": "code",
   "execution_count": 4,
   "metadata": {},
   "outputs": [],
   "source": [
    "relations_to_comics = {}\n",
    "\n",
    "comics = df['comicID'].unique()\n",
    "\n",
    "for i in comics:\n",
    "    relations_to_comics[i] = []"
   ]
  },
  {
   "cell_type": "code",
   "execution_count": 5,
   "metadata": {},
   "outputs": [],
   "source": [
    "chars = df['characterID'].unique()\n",
    "\n",
    "for i in range(len(df)):\n",
    "    comicID, charID = df.iloc[i, 0:2]\n",
    "    if charID not in relations_to_comics[comicID]:\n",
    "        relations_to_comics[comicID].append(charID)"
   ]
  },
  {
   "cell_type": "code",
   "execution_count": 6,
   "metadata": {},
   "outputs": [],
   "source": [
    "temp = []\n",
    "for n in relations_to_comics:\n",
    "    temp.append(relations_to_comics[n])"
   ]
  },
  {
   "cell_type": "code",
   "execution_count": 7,
   "metadata": {},
   "outputs": [],
   "source": [
    "import itertools\n",
    "connections = []\n",
    "\n",
    "for i in temp: \n",
    "    for j in list(itertools.combinations(i, 2)): \n",
    "        if j not in connections:\n",
    "            connections.append(j)"
   ]
  },
  {
   "cell_type": "code",
   "execution_count": 8,
   "metadata": {},
   "outputs": [
    {
     "data": {
      "text/plain": [
       "[]"
      ]
     },
     "execution_count": 8,
     "metadata": {},
     "output_type": "execute_result"
    }
   ],
   "source": [
    "from iteration_utilities import duplicates\n",
    "list(duplicates(connections))"
   ]
  },
  {
   "cell_type": "code",
   "execution_count": 9,
   "metadata": {
    "scrolled": true
   },
   "outputs": [],
   "source": [
    "from collections import Counter\n",
    "c1 = Counter(i[0] for i in connections)\n",
    "c2 = Counter(i[1] for i in connections)\n",
    "\n",
    "union = {}\n",
    "\n",
    "for i in c1:\n",
    "    union[i] = c1[i] + c2[i]\n",
    "\n",
    "for i in union:\n",
    "    df.loc[df.characterID == i, 'ConnAmnt'] = union[i]"
   ]
  },
  {
   "cell_type": "code",
   "execution_count": 10,
   "metadata": {},
   "outputs": [
    {
     "data": {
      "image/png": "[encoded data removed]",
      "text/plain": [
       "<Figure size 432x288 with 1 Axes>"
      ]
     },
     "metadata": {
      "needs_background": "light"
     },
     "output_type": "display_data"
    }
   ],
   "source": [
    "import matplotlib.pyplot as plt\n",
    "result_df = df.drop_duplicates(subset=['name'], keep='first')\n",
    "\n",
    "plt.hist(result_df['ConnAmnt'], bins=[i*5 for i in range(100)])\n",
    "plt.show()"
   ]
  },
  {
   "cell_type": "code",
   "execution_count": 11,
   "metadata": {},
   "outputs": [
    {
     "data": {
      "text/plain": [
       "(1169, 1169)"
      ]
     },
     "execution_count": 11,
     "metadata": {},
     "output_type": "execute_result"
    }
   ],
   "source": [
    "names = list(result_df['name'])\n",
    "ids = list(result_df['characterID'])\n",
    "\n",
    "len(ids), len(names)"
   ]
  },
  {
   "cell_type": "code",
   "execution_count": 12,
   "metadata": {},
   "outputs": [],
   "source": [
    "from unidecode import unidecode\n",
    "with open('marvel.gml', 'w') as file:\n",
    "\n",
    "        # Primeira linha, que abre os colchetes da rede.\n",
    "        file.write('graph [\\n')\n",
    "\n",
    "        # Segunda linha, que indica se a rede é dirigida (1) ou não (0).\n",
    "        file.write('  directed 0\\n')\n",
    "\n",
    "        # Colchetes de cada nó. Você sempre precisa colocar um id (inteiro\n",
    "        # ou string) e depois pode colocar os atributos adicionais que\n",
    "        # quiser, contanto que sejam inteiros, floats ou strings. Se forem\n",
    "        # strings, não esqueça as aspas duplas (isso vale para o id também).\n",
    "        # Não esqueça também da indentação. Ela não é necessária mas ajuda\n",
    "        # a deixar mais legível.\n",
    "        #\n",
    "        # O módulo unidecode converte todo caractere não-ASCII para o\n",
    "        # caractere ASCII mais próximo. Isso é necessário porque a\n",
    "        # especificação do formato gml exige que ele seja ASCII.\n",
    "        for i in range(len(names)):\n",
    "            file.write('  node [\\n')\n",
    "            file.write('    id {}\\n'.format(ids[i]))\n",
    "            file.write('    name \"{}\"\\n'.format(unidecode(names[i])))\n",
    "            file.write('  ]\\n')\n",
    "\n",
    "        # Colchetes de cada aresta. Você sempre precisa colocar um source\n",
    "        # e um target (ids de nós) e depois pode colocar os atributos\n",
    "        # adicionais que quiser, contanto que sejam inteiros, floats ou\n",
    "        # strings. Se forem strings, não esqueça as aspas duplas (isso\n",
    "        # vale para o source e o target também). Não esqueça também da\n",
    "        # indentação. Ela não é necessária mas ajuda a deixar mais legível.\n",
    "        for (n, m) in connections:\n",
    "            file.write('  edge [\\n')\n",
    "            file.write('    source {}\\n'.format(n))\n",
    "            file.write('    target {}\\n'.format(m))\n",
    "            file.write('  ]\\n')\n",
    "\n",
    "        # Última linha, que fecha os colchetes da rede.\n",
    "        file.write(']\\n')"
   ]
  },
  {
   "cell_type": "code",
   "execution_count": null,
   "metadata": {},
   "outputs": [],
   "source": []
  },
  {
   "cell_type": "code",
   "execution_count": null,
   "metadata": {},
   "outputs": [],
   "source": []
  }
 ],
 "metadata": {
  "kernelspec": {
   "display_name": "Python 3",
   "language": "python",
   "name": "python3"
  },
  "language_info": {
   "codemirror_mode": {
    "name": "ipython",
    "version": 3
   },
   "file_extension": ".py",
   "mimetype": "text/x-python",
   "name": "python",
   "nbconvert_exporter": "python",
   "pygments_lexer": "ipython3",
   "version": "3.8.4"
  }
 },
 "nbformat": 4,
 "nbformat_minor": 4
}
