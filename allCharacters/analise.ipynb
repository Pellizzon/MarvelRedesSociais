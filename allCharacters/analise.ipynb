{
 "cells": [
  {
   "cell_type": "code",
   "execution_count": 1,
   "metadata": {},
   "outputs": [
    {
     "data": {
      "text/html": [
       "        <script type=\"text/javascript\">\n",
       "        window.PlotlyConfig = {MathJaxConfig: 'local'};\n",
       "        if (window.MathJax) {MathJax.Hub.Config({SVG: {font: \"STIX-Web\"}});}\n",
       "        if (typeof require !== 'undefined') {\n",
       "        require.undef(\"plotly\");\n",
       "        requirejs.config({\n",
       "            paths: {\n",
       "                'plotly': ['https://cdn.plot.ly/plotly-latest.min']\n",
       "            }\n",
       "        });\n",
       "        require(['plotly'], function(Plotly) {\n",
       "            window._Plotly = Plotly;\n",
       "        });\n",
       "        }\n",
       "        </script>\n",
       "        "
      ]
     },
     "metadata": {},
     "output_type": "display_data"
    }
   ],
   "source": [
    "import os\n",
    "import sys\n",
    "module_path = os.path.abspath(os.path.join('..'))\n",
    "if module_path not in sys.path:\n",
    "    sys.path.append(module_path)\n",
    "\n",
    "import networkx as nx\n",
    "import freeman as fm"
   ]
  },
  {
   "cell_type": "code",
   "execution_count": 2,
   "metadata": {},
   "outputs": [],
   "source": [
    "g = fm.load('marvel.gml')\n",
    "g.label_nodes('name')\n",
    "g.set_all_nodes(size=15, labpos='hover')\n",
    "g.set_all_edges(color=(0, 0, 0, 0.5))"
   ]
  },
  {
   "cell_type": "code",
   "execution_count": 3,
   "metadata": {},
   "outputs": [],
   "source": [
    "bc = nx.betweenness_centrality(g)"
   ]
  },
  {
   "cell_type": "code",
   "execution_count": 4,
   "metadata": {},
   "outputs": [],
   "source": [
    "import pandas as pd\n",
    "data = pd.DataFrame({\n",
    "    'id' : [i for i in g.nodes],\n",
    "    'Name': [g.nodes[i]['name'] for i in g.nodes],\n",
    "    'ConnAmnt': [g.nodes[i]['amount'] for i in g.nodes],\n",
    "    'Intermediation (r)': [i for i in bc.values()],\n",
    "})"
   ]
  },
  {
   "cell_type": "code",
   "execution_count": 5,
   "metadata": {},
   "outputs": [],
   "source": [
    "char_infos = pd.read_csv('../dataset/characters_stats.csv', index_col=0)\n",
    "semi_df = pd.merge(data, char_infos, how='inner', on=['Name']) "
   ]
  },
  {
   "cell_type": "code",
   "execution_count": 6,
   "metadata": {},
   "outputs": [],
   "source": [
    "import numpy as np\n",
    "semi_df = semi_df.replace('nan', np.nan)\n",
    "semi_df = semi_df[semi_df['ConnAmnt'].notna()]\n",
    "semi_df['ConnAmnt'] = pd.to_numeric(semi_df['ConnAmnt'])"
   ]
  },
  {
   "cell_type": "code",
   "execution_count": 7,
   "metadata": {},
   "outputs": [],
   "source": [
    "semi_df = semi_df.drop_duplicates(subset=['Name'], keep='first')\n",
    "semi_df = semi_df[semi_df['Alignment'] != 'neutral']\n",
    "semi_df = semi_df.replace(['good', 'bad'], [0, 1])"
   ]
  },
  {
   "cell_type": "code",
   "execution_count": 8,
   "metadata": {},
   "outputs": [],
   "source": [
    "semi_df['Intelligence (%)'] = semi_df['Intelligence']/semi_df['Total']\n",
    "semi_df['Power (%)'] = semi_df['Power']/semi_df['Total']\n",
    "semi_df['Strength (%)'] = semi_df['Strength']/semi_df['Total']\n",
    "semi_df['Combat (%)'] = semi_df['Combat']/semi_df['Total']"
   ]
  },
  {
   "cell_type": "code",
   "execution_count": 9,
   "metadata": {
    "scrolled": false
   },
   "outputs": [
    {
     "data": {
      "text/html": [
       "<table class=\"simpletable\">\n",
       "<caption>OLS Regression Results</caption>\n",
       "<tr>\n",
       "  <th>Dep. Variable:</th>    <td>Intermediation (r)</td> <th>  R-squared (uncentered):</th>      <td>   0.338</td>\n",
       "</tr>\n",
       "<tr>\n",
       "  <th>Model:</th>                    <td>OLS</td>        <th>  Adj. R-squared (uncentered):</th> <td>   0.322</td>\n",
       "</tr>\n",
       "<tr>\n",
       "  <th>Method:</th>              <td>Least Squares</td>   <th>  F-statistic:       </th>          <td>   20.71</td>\n",
       "</tr>\n",
       "<tr>\n",
       "  <th>Date:</th>              <td>Fri, 20 Nov 2020</td>  <th>  Prob (F-statistic):</th>          <td>8.36e-14</td>\n",
       "</tr>\n",
       "<tr>\n",
       "  <th>Time:</th>                  <td>17:18:56</td>      <th>  Log-Likelihood:    </th>          <td>  622.80</td>\n",
       "</tr>\n",
       "<tr>\n",
       "  <th>No. Observations:</th>       <td>   166</td>       <th>  AIC:               </th>          <td>  -1238.</td>\n",
       "</tr>\n",
       "<tr>\n",
       "  <th>Df Residuals:</th>           <td>   162</td>       <th>  BIC:               </th>          <td>  -1225.</td>\n",
       "</tr>\n",
       "<tr>\n",
       "  <th>Df Model:</th>               <td>     4</td>       <th>                     </th>              <td> </td>   \n",
       "</tr>\n",
       "<tr>\n",
       "  <th>Covariance Type:</th>       <td>nonrobust</td>     <th>                     </th>              <td> </td>   \n",
       "</tr>\n",
       "</table>\n",
       "<table class=\"simpletable\">\n",
       "<tr>\n",
       "        <td></td>          <th>coef</th>     <th>std err</th>      <th>t</th>      <th>P>|t|</th>  <th>[0.025</th>    <th>0.975]</th>  \n",
       "</tr>\n",
       "<tr>\n",
       "  <th>Intelligence</th> <td>   8.6e-05</td> <td> 1.95e-05</td> <td>    4.417</td> <td> 0.000</td> <td> 4.75e-05</td> <td>    0.000</td>\n",
       "</tr>\n",
       "<tr>\n",
       "  <th>Strength</th>     <td> 5.846e-06</td> <td>  1.6e-05</td> <td>    0.365</td> <td> 0.715</td> <td>-2.57e-05</td> <td> 3.74e-05</td>\n",
       "</tr>\n",
       "<tr>\n",
       "  <th>Power</th>        <td>-1.954e-05</td> <td> 1.99e-05</td> <td>   -0.980</td> <td> 0.329</td> <td>-5.89e-05</td> <td> 1.99e-05</td>\n",
       "</tr>\n",
       "<tr>\n",
       "  <th>Alignment</th>    <td>   -0.0029</td> <td>    0.001</td> <td>   -2.872</td> <td> 0.005</td> <td>   -0.005</td> <td>   -0.001</td>\n",
       "</tr>\n",
       "</table>\n",
       "<table class=\"simpletable\">\n",
       "<tr>\n",
       "  <th>Omnibus:</th>       <td>131.727</td> <th>  Durbin-Watson:     </th> <td>   1.207</td> \n",
       "</tr>\n",
       "<tr>\n",
       "  <th>Prob(Omnibus):</th> <td> 0.000</td>  <th>  Jarque-Bera (JB):  </th> <td>1243.587</td> \n",
       "</tr>\n",
       "<tr>\n",
       "  <th>Skew:</th>          <td> 2.974</td>  <th>  Prob(JB):          </th> <td>9.09e-271</td>\n",
       "</tr>\n",
       "<tr>\n",
       "  <th>Kurtosis:</th>      <td>15.017</td>  <th>  Cond. No.          </th> <td>    216.</td> \n",
       "</tr>\n",
       "</table><br/><br/>Notes:<br/>[1] R² is computed without centering (uncentered) since the model does not contain a constant.<br/>[2] Standard Errors assume that the covariance matrix of the errors is correctly specified."
      ],
      "text/plain": [
       "<class 'statsmodels.iolib.summary.Summary'>\n",
       "\"\"\"\n",
       "                                 OLS Regression Results                                \n",
       "=======================================================================================\n",
       "Dep. Variable:     Intermediation (r)   R-squared (uncentered):                   0.338\n",
       "Model:                            OLS   Adj. R-squared (uncentered):              0.322\n",
       "Method:                 Least Squares   F-statistic:                              20.71\n",
       "Date:                Fri, 20 Nov 2020   Prob (F-statistic):                    8.36e-14\n",
       "Time:                        17:18:56   Log-Likelihood:                          622.80\n",
       "No. Observations:                 166   AIC:                                     -1238.\n",
       "Df Residuals:                     162   BIC:                                     -1225.\n",
       "Df Model:                           4                                                  \n",
       "Covariance Type:            nonrobust                                                  \n",
       "================================================================================\n",
       "                   coef    std err          t      P>|t|      [0.025      0.975]\n",
       "--------------------------------------------------------------------------------\n",
       "Intelligence    8.6e-05   1.95e-05      4.417      0.000    4.75e-05       0.000\n",
       "Strength      5.846e-06    1.6e-05      0.365      0.715   -2.57e-05    3.74e-05\n",
       "Power        -1.954e-05   1.99e-05     -0.980      0.329   -5.89e-05    1.99e-05\n",
       "Alignment       -0.0029      0.001     -2.872      0.005      -0.005      -0.001\n",
       "==============================================================================\n",
       "Omnibus:                      131.727   Durbin-Watson:                   1.207\n",
       "Prob(Omnibus):                  0.000   Jarque-Bera (JB):             1243.587\n",
       "Skew:                           2.974   Prob(JB):                    9.09e-271\n",
       "Kurtosis:                      15.017   Cond. No.                         216.\n",
       "==============================================================================\n",
       "\n",
       "Notes:\n",
       "[1] R² is computed without centering (uncentered) since the model does not contain a constant.\n",
       "[2] Standard Errors assume that the covariance matrix of the errors is correctly specified.\n",
       "\"\"\""
      ]
     },
     "execution_count": 9,
     "metadata": {},
     "output_type": "execute_result"
    }
   ],
   "source": [
    "import statsmodels.api as sm\n",
    "\n",
    "# model = sm.OLS(semi_df['Intermediation (r)'], semi_df[['Intelligence', 'Strength', 'Strength (%)', \n",
    "#                                                        'Power', 'Power (%)', 'Alignment']])\n",
    "model = sm.OLS(semi_df['Intermediation (r)'], semi_df[['Intelligence', 'Strength', 'Power', 'Alignment']])\n",
    "result = model.fit()\n",
    "result.summary()\n"
   ]
  },
  {
   "cell_type": "code",
   "execution_count": 10,
   "metadata": {},
   "outputs": [],
   "source": [
    "g = fm.load('marvelWeights.gml')\n",
    "g.label_nodes('name')\n",
    "g.set_all_nodes(size=15, labpos='hover')\n",
    "g.set_all_edges(color=(0, 0, 0, 0.5))\n",
    "\n",
    "intelligence = {}\n",
    "\n",
    "for i in g.nodes:\n",
    "    intelligence[i] = float(g.nodes[i]['intelligence'])\n",
    "\n",
    "g.scale_nodes_size(intelligence)\n",
    "#g.draw()"
   ]
  },
  {
   "cell_type": "code",
   "execution_count": 11,
   "metadata": {},
   "outputs": [
    {
     "name": "stdout",
     "output_type": "stream",
     "text": [
      "Coef:\n",
      "Intelligence    0.000086\n",
      "Strength        0.000006\n",
      "Power          -0.000020\n",
      "Alignment      -0.002945\n",
      "dtype: float64\n",
      "\n",
      "std err:\n",
      "Intelligence    0.000019\n",
      "Strength        0.000016\n",
      "Power           0.000020\n",
      "Alignment       0.001025\n",
      "dtype: float64\n",
      "\n",
      "p-values:\n",
      "Intelligence    0.000018\n",
      "Strength        0.715298\n",
      "Power           0.328781\n",
      "Alignment       0.004627\n",
      "dtype: float64\n",
      "\n"
     ]
    }
   ],
   "source": [
    "print(f\"Coef:\\n{result.params}\\n\")\n",
    "print(f\"std err:\\n{result.bse}\\n\")\n",
    "print(f\"p-values:\\n{result.pvalues}\\n\")"
   ]
  },
  {
   "cell_type": "code",
   "execution_count": 12,
   "metadata": {},
   "outputs": [],
   "source": [
    "# g = fm.load('marvelWeights.gml')\n",
    "# g.label_nodes('name')\n",
    "# g.set_all_nodes(size=15, labpos='hover')\n",
    "# g.set_all_edges(color=(0, 0, 0, 0.5))\n",
    "\n",
    "# intelligence = {}\n",
    "\n",
    "# for i in g.nodes:\n",
    "#     intelligence[i] = float(g.nodes[i]['intelligence'])\n",
    "\n",
    "# g.scale_nodes_size(intelligence)\n",
    "# g.draw()"
   ]
  },
  {
   "cell_type": "code",
   "execution_count": null,
   "metadata": {},
   "outputs": [],
   "source": []
  }
 ],
 "metadata": {
  "kernelspec": {
   "display_name": "Python 3",
   "language": "python",
   "name": "python3"
  },
  "language_info": {
   "codemirror_mode": {
    "name": "ipython",
    "version": 3
   },
   "file_extension": ".py",
   "mimetype": "text/x-python",
   "name": "python",
   "nbconvert_exporter": "python",
   "pygments_lexer": "ipython3",
   "version": "3.8.4"
  }
 },
 "nbformat": 4,
 "nbformat_minor": 4
}
