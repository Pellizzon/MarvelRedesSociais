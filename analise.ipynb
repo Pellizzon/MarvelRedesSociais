{
 "cells": [
  {
   "cell_type": "code",
   "execution_count": 1,
   "metadata": {},
   "outputs": [
    {
     "data": {
      "text/html": [
       "        <script type=\"text/javascript\">\n",
       "        window.PlotlyConfig = {MathJaxConfig: 'local'};\n",
       "        if (window.MathJax) {MathJax.Hub.Config({SVG: {font: \"STIX-Web\"}});}\n",
       "        if (typeof require !== 'undefined') {\n",
       "        require.undef(\"plotly\");\n",
       "        requirejs.config({\n",
       "            paths: {\n",
       "                'plotly': ['https://cdn.plot.ly/plotly-latest.min']\n",
       "            }\n",
       "        });\n",
       "        require(['plotly'], function(Plotly) {\n",
       "            window._Plotly = Plotly;\n",
       "        });\n",
       "        }\n",
       "        </script>\n",
       "        "
      ]
     },
     "metadata": {},
     "output_type": "display_data"
    }
   ],
   "source": [
    "import networkx as nx\n",
    "import freeman as fm"
   ]
  },
  {
   "cell_type": "code",
   "execution_count": 2,
   "metadata": {},
   "outputs": [],
   "source": [
    "g = fm.load('marvel.gml')"
   ]
  },
  {
   "cell_type": "code",
   "execution_count": 3,
   "metadata": {},
   "outputs": [],
   "source": [
    "g.label_nodes('name')\n",
    "g.set_all_nodes(size=15, labpos='hover')\n",
    "g.set_all_edges(color=(0, 0, 0, 0.5))"
   ]
  },
  {
   "cell_type": "code",
   "execution_count": 4,
   "metadata": {},
   "outputs": [],
   "source": [
    "bc = nx.betweenness_centrality(g)\n",
    "# cc = nx.closeness_centrality(g)\n",
    "# ec = nx.eigenvector_centrality(g, max_iter=1000)"
   ]
  },
  {
   "cell_type": "code",
   "execution_count": 5,
   "metadata": {},
   "outputs": [],
   "source": [
    "import pandas as pd\n",
    "data = pd.DataFrame({\n",
    "    'id' : [i for i in g.nodes],\n",
    "    'Name': [g.nodes[i]['name'] for i in g.nodes],\n",
    "    'ConnAmnt': [g.nodes[i]['amount'] for i in g.nodes],\n",
    "    'Intermediation (r)': [i for i in bc.values()],\n",
    "#     'closeness': [i for i in cc.values()],\n",
    "#     'eigenvector': [i for i in ec.values()]\n",
    "})"
   ]
  },
  {
   "cell_type": "code",
   "execution_count": 6,
   "metadata": {},
   "outputs": [],
   "source": [
    "char_infos = pd.read_csv('dataset/charcters_stats.csv', index_col=0)"
   ]
  },
  {
   "cell_type": "code",
   "execution_count": 7,
   "metadata": {},
   "outputs": [],
   "source": [
    "semi_df = pd.merge(data, char_infos, how='inner', on=['Name']) "
   ]
  },
  {
   "cell_type": "code",
   "execution_count": 8,
   "metadata": {},
   "outputs": [],
   "source": [
    "import numpy as np\n",
    "semi_df = semi_df.replace('nan', np.nan)\n",
    "semi_df = semi_df[semi_df['ConnAmnt'].notna()]\n",
    "semi_df['ConnAmnt'] = pd.to_numeric(semi_df['ConnAmnt'])"
   ]
  },
  {
   "cell_type": "code",
   "execution_count": 9,
   "metadata": {},
   "outputs": [],
   "source": [
    "semi_df = semi_df.drop_duplicates(subset=['Name'], keep='first')"
   ]
  },
  {
   "cell_type": "code",
   "execution_count": 10,
   "metadata": {},
   "outputs": [],
   "source": [
    "# import seaborn as sns\n",
    "# sns.histplot(semi_df, x='Strength', common_norm = True, stat='probability', cumulative=True,bins=[i for i in range(100)])"
   ]
  },
  {
   "cell_type": "code",
   "execution_count": 11,
   "metadata": {},
   "outputs": [],
   "source": [
    "semi_df['Alignment'].value_counts()\n",
    "semi_df = semi_df[semi_df['Alignment'] != 'neutral']"
   ]
  },
  {
   "cell_type": "code",
   "execution_count": 12,
   "metadata": {},
   "outputs": [],
   "source": [
    "semi_df = semi_df.replace(['good', 'bad'], [1, 0])"
   ]
  },
  {
   "cell_type": "code",
   "execution_count": 13,
   "metadata": {
    "scrolled": false
   },
   "outputs": [
    {
     "data": {
      "text/html": [
       "<table class=\"simpletable\">\n",
       "<caption>OLS Regression Results</caption>\n",
       "<tr>\n",
       "  <th>Dep. Variable:</th>    <td>Intermediation (r)</td> <th>  R-squared (uncentered):</th>      <td>   0.326</td>\n",
       "</tr>\n",
       "<tr>\n",
       "  <th>Model:</th>                    <td>OLS</td>        <th>  Adj. R-squared (uncentered):</th> <td>   0.310</td>\n",
       "</tr>\n",
       "<tr>\n",
       "  <th>Method:</th>              <td>Least Squares</td>   <th>  F-statistic:       </th>          <td>   19.62</td>\n",
       "</tr>\n",
       "<tr>\n",
       "  <th>Date:</th>              <td>Fri, 13 Nov 2020</td>  <th>  Prob (F-statistic):</th>          <td>3.48e-13</td>\n",
       "</tr>\n",
       "<tr>\n",
       "  <th>Time:</th>                  <td>17:48:52</td>      <th>  Log-Likelihood:    </th>          <td>  621.31</td>\n",
       "</tr>\n",
       "<tr>\n",
       "  <th>No. Observations:</th>       <td>   166</td>       <th>  AIC:               </th>          <td>  -1235.</td>\n",
       "</tr>\n",
       "<tr>\n",
       "  <th>Df Residuals:</th>           <td>   162</td>       <th>  BIC:               </th>          <td>  -1222.</td>\n",
       "</tr>\n",
       "<tr>\n",
       "  <th>Df Model:</th>               <td>     4</td>       <th>                     </th>              <td> </td>   \n",
       "</tr>\n",
       "<tr>\n",
       "  <th>Covariance Type:</th>       <td>nonrobust</td>     <th>                     </th>              <td> </td>   \n",
       "</tr>\n",
       "</table>\n",
       "<table class=\"simpletable\">\n",
       "<tr>\n",
       "        <td></td>          <th>coef</th>     <th>std err</th>      <th>t</th>      <th>P>|t|</th>  <th>[0.025</th>    <th>0.975]</th>  \n",
       "</tr>\n",
       "<tr>\n",
       "  <th>Intelligence</th> <td> 6.096e-05</td> <td> 2.02e-05</td> <td>    3.013</td> <td> 0.003</td> <td>  2.1e-05</td> <td>    0.000</td>\n",
       "</tr>\n",
       "<tr>\n",
       "  <th>Strength</th>     <td> 1.416e-06</td> <td>  1.6e-05</td> <td>    0.088</td> <td> 0.930</td> <td>-3.02e-05</td> <td> 3.31e-05</td>\n",
       "</tr>\n",
       "<tr>\n",
       "  <th>Power</th>        <td>-2.282e-05</td> <td> 2.03e-05</td> <td>   -1.124</td> <td> 0.263</td> <td>-6.29e-05</td> <td> 1.73e-05</td>\n",
       "</tr>\n",
       "<tr>\n",
       "  <th>Alignment</th>    <td>    0.0018</td> <td>    0.001</td> <td>    2.281</td> <td> 0.024</td> <td>    0.000</td> <td>    0.003</td>\n",
       "</tr>\n",
       "</table>\n",
       "<table class=\"simpletable\">\n",
       "<tr>\n",
       "  <th>Omnibus:</th>       <td>141.251</td> <th>  Durbin-Watson:     </th> <td>   1.111</td>\n",
       "</tr>\n",
       "<tr>\n",
       "  <th>Prob(Omnibus):</th> <td> 0.000</td>  <th>  Jarque-Bera (JB):  </th> <td>1475.718</td>\n",
       "</tr>\n",
       "<tr>\n",
       "  <th>Skew:</th>          <td> 3.240</td>  <th>  Prob(JB):          </th> <td>    0.00</td>\n",
       "</tr>\n",
       "<tr>\n",
       "  <th>Kurtosis:</th>      <td>16.090</td>  <th>  Cond. No.          </th> <td>    168.</td>\n",
       "</tr>\n",
       "</table><br/><br/>Notes:<br/>[1] R² is computed without centering (uncentered) since the model does not contain a constant.<br/>[2] Standard Errors assume that the covariance matrix of the errors is correctly specified."
      ],
      "text/plain": [
       "<class 'statsmodels.iolib.summary.Summary'>\n",
       "\"\"\"\n",
       "                                 OLS Regression Results                                \n",
       "=======================================================================================\n",
       "Dep. Variable:     Intermediation (r)   R-squared (uncentered):                   0.326\n",
       "Model:                            OLS   Adj. R-squared (uncentered):              0.310\n",
       "Method:                 Least Squares   F-statistic:                              19.62\n",
       "Date:                Fri, 13 Nov 2020   Prob (F-statistic):                    3.48e-13\n",
       "Time:                        17:48:52   Log-Likelihood:                          621.31\n",
       "No. Observations:                 166   AIC:                                     -1235.\n",
       "Df Residuals:                     162   BIC:                                     -1222.\n",
       "Df Model:                           4                                                  \n",
       "Covariance Type:            nonrobust                                                  \n",
       "================================================================================\n",
       "                   coef    std err          t      P>|t|      [0.025      0.975]\n",
       "--------------------------------------------------------------------------------\n",
       "Intelligence  6.096e-05   2.02e-05      3.013      0.003     2.1e-05       0.000\n",
       "Strength      1.416e-06    1.6e-05      0.088      0.930   -3.02e-05    3.31e-05\n",
       "Power        -2.282e-05   2.03e-05     -1.124      0.263   -6.29e-05    1.73e-05\n",
       "Alignment        0.0018      0.001      2.281      0.024       0.000       0.003\n",
       "==============================================================================\n",
       "Omnibus:                      141.251   Durbin-Watson:                   1.111\n",
       "Prob(Omnibus):                  0.000   Jarque-Bera (JB):             1475.718\n",
       "Skew:                           3.240   Prob(JB):                         0.00\n",
       "Kurtosis:                      16.090   Cond. No.                         168.\n",
       "==============================================================================\n",
       "\n",
       "Notes:\n",
       "[1] R² is computed without centering (uncentered) since the model does not contain a constant.\n",
       "[2] Standard Errors assume that the covariance matrix of the errors is correctly specified.\n",
       "\"\"\""
      ]
     },
     "execution_count": 13,
     "metadata": {},
     "output_type": "execute_result"
    }
   ],
   "source": [
    "import statsmodels.api as sm\n",
    "\n",
    "model = sm.OLS(semi_df['Intermediation (r)'], semi_df[['Intelligence', 'Strength', 'Power', 'Alignment']])\n",
    "result = model.fit()\n",
    "result.summary()"
   ]
  },
  {
   "cell_type": "code",
   "execution_count": null,
   "metadata": {},
   "outputs": [],
   "source": []
  }
 ],
 "metadata": {
  "kernelspec": {
   "display_name": "Python 3",
   "language": "python",
   "name": "python3"
  },
  "language_info": {
   "codemirror_mode": {
    "name": "ipython",
    "version": 3
   },
   "file_extension": ".py",
   "mimetype": "text/x-python",
   "name": "python",
   "nbconvert_exporter": "python",
   "pygments_lexer": "ipython3",
   "version": "3.8.4"
  }
 },
 "nbformat": 4,
 "nbformat_minor": 4
}
